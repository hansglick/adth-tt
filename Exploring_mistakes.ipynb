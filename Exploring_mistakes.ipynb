{
 "cells": [
  {
   "cell_type": "markdown",
   "metadata": {},
   "source": [
    "## Import functions"
   ]
  },
  {
   "cell_type": "code",
   "execution_count": 1,
   "metadata": {},
   "outputs": [],
   "source": [
    "from myfun import *"
   ]
  },
  {
   "cell_type": "markdown",
   "metadata": {},
   "source": [
    "## Load the 'model'"
   ]
  },
  {
   "cell_type": "code",
   "execution_count": 5,
   "metadata": {},
   "outputs": [],
   "source": [
    "# Model\n",
    "\n",
    "granularite = 0.01\n",
    "\n",
    "dic_of_words = LoadPickle(\"dic_of_words.p\")\n",
    "WordToRequest = LoadPickle(\"WordToRequest.p\")\n",
    "df = LoadPickle(\"df.p\")\n",
    "dic_of_requests = LoadPickle(\"dic_of_requests.p\")\n",
    "\n",
    "DefaultCategory = df.category.value_counts().index[0]\n",
    "OverallDisDic = GetOverallCategoryDistribution(df)\n",
    "Overallp =  DotProductFromDic(OverallDisDic)\n",
    "\n",
    "PowerDicDis = GetPowerDicDis(Overallp,dic_of_words,granularite)"
   ]
  },
  {
   "cell_type": "code",
   "execution_count": null,
   "metadata": {},
   "outputs": [],
   "source": [
    "## Most Powerful words by category\n",
    "\n",
    "d = AutoVivification()\n",
    "\n",
    "number_of_words = 0\n",
    "for word,informations in dic_of_words.items():\n",
    "    number_of_words = number_of_words + 1\n",
    "    print(\"\\rWords viewed so far : \",number_of_words,end = \"\")\n",
    "    for category,frequence in informations.items():\n",
    "        d[category][word] = d[category].get(word,0) + frequence\n",
    "        \n",
    "Powerful_Words_by_Category = {}\n",
    "for category,informations in d.items():\n",
    "    templist = [(word,frequence*PowerDicDis[word]) for word,frequence in informations.items()]\n",
    "    total_mass = sum([item[1] for item in templist])\n",
    "    templist = [(item[0],item[1],item[1]/total_mass) for item in templist]\n",
    "    templist.sort(key = lambda a : -a[1])\n",
    "    Powerful_Words_by_Category[category] = templist"
   ]
  },
  {
   "cell_type": "markdown",
   "metadata": {},
   "source": [
    "## Functions used to explore"
   ]
  },
  {
   "cell_type": "code",
   "execution_count": 83,
   "metadata": {},
   "outputs": [],
   "source": [
    "def Explore_Prediction(hyp,IdRequest):\n",
    "\n",
    "    SelectedRequest, SelectedCategory, SelectedWords = GetInformationsFromIDRequest(IdRequest,df)\n",
    "    UpdateDic(IdRequest,SelectedRequest, SelectedCategory, SelectedWords,dic_of_words,WordToRequest,True)\n",
    "    sauvegardePowerDicDis = SavePowerDicDis(SelectedWords,PowerDicDis)\n",
    "    UpdatePowerDicDis(SelectedWords,dic_of_words,sauvegardePowerDicDis,granularite,Overallp,PowerDicDis,True)\n",
    "\n",
    "    RequestDic = GetRequestWeight(SelectedRequest,PowerDicDis)\n",
    "    RequestDic_tuples = [(k,v) for k,v in RequestDic.items()]\n",
    "    RequestDic_tuples.sort(key=lambda tup: -tup[1])\n",
    "    ranked_words = [item[0] for item in RequestDic_tuples if item[1]>0.0001]\n",
    "    ranked_words = Clean_Ranked_Words(ranked_words,WordToRequest)\n",
    "\n",
    "    PREDICTIONS = ALL_PREDICTIONS_FROM_PARTITIONS(ranked_words,\n",
    "                                                  RequestDic_tuples,dic_of_requests,WordToRequest,\n",
    "                                                  hyp,[hyp],DefaultCategory,with_details=True)\n",
    "\n",
    "    UpdateDic(IdRequest,SelectedRequest, SelectedCategory, SelectedWords,dic_of_words,WordToRequest,False)\n",
    "    UpdatePowerDicDis(SelectedWords,dic_of_words,sauvegardePowerDicDis,granularite,Overallp,PowerDicDis,False)\n",
    "\n",
    "    dftoprint = PREDICTIONS[0][2].head(25)\n",
    "    dftoprint = dftoprint.drop([\"score\"], axis=1)\n",
    "    atp = \"ID : \" + str(IdRequest) \n",
    "    btp = \"Query : \" + str(SelectedRequest)\n",
    "    ctp = \"Prediction : \" + str(SelectedCategory==PREDICTIONS[0][1]).upper()\n",
    "    dtp = \"True Category : \" + str(SelectedCategory) + \" | Predicted Category : \" + str(PREDICTIONS[0][1])    \n",
    "    toprint = atp + \"\\n\" + btp + \"\\n\" + ctp + \"\\n\" + dtp + \"\\n\\nBest Queries Candidates\"\n",
    "    \n",
    "    return toprint,dftoprint,SelectedCategory,PREDICTIONS[0][1]"
   ]
  },
  {
   "cell_type": "code",
   "execution_count": 84,
   "metadata": {},
   "outputs": [],
   "source": [
    "def pick_queries_within_category(idcat,nobs=10):\n",
    "    return df[df.category == idcat].head(nobs) "
   ]
  },
  {
   "cell_type": "code",
   "execution_count": null,
   "metadata": {},
   "outputs": [],
   "source": []
  },
  {
   "cell_type": "code",
   "execution_count": null,
   "metadata": {},
   "outputs": [],
   "source": []
  },
  {
   "cell_type": "code",
   "execution_count": null,
   "metadata": {},
   "outputs": [],
   "source": []
  },
  {
   "cell_type": "markdown",
   "metadata": {},
   "source": [
    "## Explore the results"
   ]
  },
  {
   "cell_type": "markdown",
   "metadata": {},
   "source": [
    "#### **Pick a random query and make a prediction**"
   ]
  },
  {
   "cell_type": "code",
   "execution_count": 187,
   "metadata": {},
   "outputs": [
    {
     "name": "stdout",
     "output_type": "stream",
     "text": [
      "ID : 294532\n",
      "Query : shooting clothing uk\n",
      "Prediction : FALSE\n",
      "True Category : 829 | Predicted Category : 284\n",
      "\n",
      "Best Queries Candidates\n",
      "    idrequest                               request  category  score_relatif\n",
      "0      370532                     shooting clothing       284       1.000000\n",
      "1      566436                shooting clothing sale       829       1.000000\n",
      "2      402918              ladies shooting clothing       829       1.000000\n",
      "3      199680       pheasant shooting days for sale       284       0.894273\n",
      "4      429568                      shooting vest uk       829       0.894273\n",
      "5      602626  clay pigeon shooting gloucestershire       284       0.894273\n",
      "6       20485                        shooting gilet       829       0.894273\n",
      "7      306696                        shooting boots       829       0.894273\n",
      "8       97802                 shooting sticks argos       829       0.894273\n",
      "9      401423       lakenheath clay pigeon shooting       284       0.894273\n",
      "10     202257            pheasant shooting for sale       284       0.894273\n",
      "11     110629                clay shooting magazine       284       0.894273\n",
      "12     412152          ladies tweed shooting jacket       829       0.894273\n",
      "13      71721                 police shooting games       987       0.894273\n",
      "14     164907                   clay shooting essex       284       0.894273\n",
      "15     247346                    shooting sticks uk       829       0.894273\n",
      "16     128052             basketball shooting games       594       0.894273\n",
      "17     355895           clay pigeon shooting bisley       284       0.894273\n",
      "18       6712                       shooting sleeve      1037       0.894273\n",
      "19     397881       clay pigeon shooting nottingham       284       0.894273\n",
      "20     362554             fine shooting accessories       829       0.894273\n",
      "21     458811       clay pigeon shooting north west       284       0.894273\n",
      "22     394816                ladies shooting jacket       284       0.894273\n",
      "23     243779                shooting quasar dragon       780       0.894273\n",
      "24     399429                   shooting jackets uk       284       0.894273\n"
     ]
    }
   ],
   "source": [
    "idq = np.random.choice(np.arange(len(df)))\n",
    "#idq = 57906\n",
    "toprint,dftoprint,SelectedCategory,PredictedCategory = Explore_Prediction(0.85,idq)\n",
    "print(toprint)\n",
    "print(dftoprint)"
   ]
  },
  {
   "cell_type": "code",
   "execution_count": null,
   "metadata": {},
   "outputs": [],
   "source": []
  },
  {
   "cell_type": "code",
   "execution_count": null,
   "metadata": {},
   "outputs": [],
   "source": []
  },
  {
   "cell_type": "code",
   "execution_count": null,
   "metadata": {},
   "outputs": [],
   "source": []
  },
  {
   "cell_type": "markdown",
   "metadata": {},
   "source": [
    "#### **List the TOP 15 powerful words of the category the random request belongs to**"
   ]
  },
  {
   "cell_type": "code",
   "execution_count": 188,
   "metadata": {},
   "outputs": [
    {
     "name": "stdout",
     "output_type": "stream",
     "text": [
      "True Category :  829\n"
     ]
    },
    {
     "data": {
      "text/plain": [
       "[('shooting', 11252.904653119758, 0.06632920814943152),\n",
       " ('seeland', 6156.083740289631, 0.03628646757277881),\n",
       " ('shotgun', 3940.479277387829, 0.023226791504530952),\n",
       " ('realtree', 3892.012151618371, 0.02294110650384308),\n",
       " ('scopes', 3464.6438883625306, 0.02042202371021977),\n",
       " ('harkila', 3092.3695785958603, 0.01822768714180731),\n",
       " ('archery', 2786.3976494196504, 0.016424163837929908),\n",
       " ('bow', 2488.9412760446803, 0.014670834691975271),\n",
       " ('hunting', 2357.90877545604, 0.013898475707890674),\n",
       " ('crossbow', 2257.8454285206185, 0.013308661542428222),\n",
       " ('deerhunter', 2095.091764510158, 0.012349325087529924),\n",
       " ('recurve', 2060.289999530373, 0.012144189295086167),\n",
       " ('slingshot', 1955.5334894882571, 0.011526711712739005),\n",
       " ('ear', 1764.5191578502645, 0.010400795360179458),\n",
       " ('camo', 1659.9210387635985, 0.00978425139870414)]"
      ]
     },
     "execution_count": 188,
     "metadata": {},
     "output_type": "execute_result"
    }
   ],
   "source": [
    "print(\"True Category : \", SelectedCategory)\n",
    "Powerful_Words_by_Category[SelectedCategory][:15]"
   ]
  },
  {
   "cell_type": "markdown",
   "metadata": {},
   "source": [
    "#### **Pick some random queries from the category the random request belongs to**"
   ]
  },
  {
   "cell_type": "code",
   "execution_count": 189,
   "metadata": {},
   "outputs": [
    {
     "name": "stdout",
     "output_type": "stream",
     "text": [
      "True Category :  829\n"
     ]
    },
    {
     "data": {
      "text/html": [
       "<div>\n",
       "<style scoped>\n",
       "    .dataframe tbody tr th:only-of-type {\n",
       "        vertical-align: middle;\n",
       "    }\n",
       "\n",
       "    .dataframe tbody tr th {\n",
       "        vertical-align: top;\n",
       "    }\n",
       "\n",
       "    .dataframe thead th {\n",
       "        text-align: right;\n",
       "    }\n",
       "</style>\n",
       "<table border=\"1\" class=\"dataframe\">\n",
       "  <thead>\n",
       "    <tr style=\"text-align: right;\">\n",
       "      <th></th>\n",
       "      <th>idrequest</th>\n",
       "      <th>request</th>\n",
       "      <th>category</th>\n",
       "    </tr>\n",
       "  </thead>\n",
       "  <tbody>\n",
       "    <tr>\n",
       "      <th>624</th>\n",
       "      <td>624</td>\n",
       "      <td>duck hunt</td>\n",
       "      <td>829</td>\n",
       "    </tr>\n",
       "    <tr>\n",
       "      <th>1084</th>\n",
       "      <td>1084</td>\n",
       "      <td>featherlight</td>\n",
       "      <td>829</td>\n",
       "    </tr>\n",
       "    <tr>\n",
       "      <th>1132</th>\n",
       "      <td>1132</td>\n",
       "      <td>ballistic gel</td>\n",
       "      <td>829</td>\n",
       "    </tr>\n",
       "    <tr>\n",
       "      <th>3003</th>\n",
       "      <td>3003</td>\n",
       "      <td>410 cartridges</td>\n",
       "      <td>829</td>\n",
       "    </tr>\n",
       "    <tr>\n",
       "      <th>5125</th>\n",
       "      <td>5125</td>\n",
       "      <td>spypoint</td>\n",
       "      <td>829</td>\n",
       "    </tr>\n",
       "    <tr>\n",
       "      <th>6389</th>\n",
       "      <td>6389</td>\n",
       "      <td>clay shooting</td>\n",
       "      <td>829</td>\n",
       "    </tr>\n",
       "    <tr>\n",
       "      <th>6883</th>\n",
       "      <td>6883</td>\n",
       "      <td>target shooting</td>\n",
       "      <td>829</td>\n",
       "    </tr>\n",
       "    <tr>\n",
       "      <th>8427</th>\n",
       "      <td>8427</td>\n",
       "      <td>harkila pro hunter</td>\n",
       "      <td>829</td>\n",
       "    </tr>\n",
       "    <tr>\n",
       "      <th>8968</th>\n",
       "      <td>8968</td>\n",
       "      <td>snare trap</td>\n",
       "      <td>829</td>\n",
       "    </tr>\n",
       "    <tr>\n",
       "      <th>10887</th>\n",
       "      <td>10887</td>\n",
       "      <td>mens hunters</td>\n",
       "      <td>829</td>\n",
       "    </tr>\n",
       "  </tbody>\n",
       "</table>\n",
       "</div>"
      ],
      "text/plain": [
       "       idrequest             request  category\n",
       "624          624           duck hunt       829\n",
       "1084        1084        featherlight       829\n",
       "1132        1132       ballistic gel       829\n",
       "3003        3003      410 cartridges       829\n",
       "5125        5125            spypoint       829\n",
       "6389        6389       clay shooting       829\n",
       "6883        6883     target shooting       829\n",
       "8427        8427  harkila pro hunter       829\n",
       "8968        8968          snare trap       829\n",
       "10887      10887        mens hunters       829"
      ]
     },
     "execution_count": 189,
     "metadata": {},
     "output_type": "execute_result"
    }
   ],
   "source": [
    "print(\"True Category : \", SelectedCategory)\n",
    "pick_queries_within_category(SelectedCategory,nobs=10)"
   ]
  },
  {
   "cell_type": "code",
   "execution_count": null,
   "metadata": {},
   "outputs": [],
   "source": []
  },
  {
   "cell_type": "code",
   "execution_count": null,
   "metadata": {},
   "outputs": [],
   "source": []
  },
  {
   "cell_type": "code",
   "execution_count": null,
   "metadata": {},
   "outputs": [],
   "source": []
  },
  {
   "cell_type": "markdown",
   "metadata": {},
   "source": [
    "#### **List the TOP 15 powerful words of the predicted category**"
   ]
  },
  {
   "cell_type": "code",
   "execution_count": 190,
   "metadata": {},
   "outputs": [
    {
     "name": "stdout",
     "output_type": "stream",
     "text": [
      "Predicted Category :  284\n"
     ]
    },
    {
     "data": {
      "text/plain": [
       "[('shooting', 18218.988486003418, 0.09125580832253766),\n",
       " ('stag', 17696.53145033154, 0.0886389100715364),\n",
       " ('deer', 11145.859480615198, 0.05582771058526969),\n",
       " ('taxidermy', 9416.345404439711, 0.04716486933325116),\n",
       " ('clay', 9074.912159959951, 0.04545468840102631),\n",
       " ('pigeon', 4995.070494286749, 0.02501945681201686),\n",
       " ('duchally', 4990.948637194916, 0.024998811132318773),\n",
       " ('stalking', 4961.347488470459, 0.024850544023186934),\n",
       " ('archery', 4643.996082366084, 0.023260984915193805),\n",
       " ('harkila', 3607.764508361837, 0.01807067756263471)]"
      ]
     },
     "execution_count": 190,
     "metadata": {},
     "output_type": "execute_result"
    }
   ],
   "source": [
    "print(\"Predicted Category : \", PredictedCategory)\n",
    "Powerful_Words_by_Category[PredictedCategory][:10]"
   ]
  },
  {
   "cell_type": "markdown",
   "metadata": {},
   "source": [
    "#### **Pick some random queries from the category the random request belongs to**"
   ]
  },
  {
   "cell_type": "code",
   "execution_count": 191,
   "metadata": {},
   "outputs": [
    {
     "name": "stdout",
     "output_type": "stream",
     "text": [
      "Predicted Category :  284\n"
     ]
    },
    {
     "data": {
      "text/html": [
       "<div>\n",
       "<style scoped>\n",
       "    .dataframe tbody tr th:only-of-type {\n",
       "        vertical-align: middle;\n",
       "    }\n",
       "\n",
       "    .dataframe tbody tr th {\n",
       "        vertical-align: top;\n",
       "    }\n",
       "\n",
       "    .dataframe thead th {\n",
       "        text-align: right;\n",
       "    }\n",
       "</style>\n",
       "<table border=\"1\" class=\"dataframe\">\n",
       "  <thead>\n",
       "    <tr style=\"text-align: right;\">\n",
       "      <th></th>\n",
       "      <th>idrequest</th>\n",
       "      <th>request</th>\n",
       "      <th>category</th>\n",
       "    </tr>\n",
       "  </thead>\n",
       "  <tbody>\n",
       "    <tr>\n",
       "      <th>606</th>\n",
       "      <td>606</td>\n",
       "      <td>stag head designs</td>\n",
       "      <td>284</td>\n",
       "    </tr>\n",
       "    <tr>\n",
       "      <th>3867</th>\n",
       "      <td>3867</td>\n",
       "      <td>wall mounted animal heads uk</td>\n",
       "      <td>284</td>\n",
       "    </tr>\n",
       "    <tr>\n",
       "      <th>4335</th>\n",
       "      <td>4335</td>\n",
       "      <td>shooting range las vegas</td>\n",
       "      <td>284</td>\n",
       "    </tr>\n",
       "    <tr>\n",
       "      <th>4358</th>\n",
       "      <td>4358</td>\n",
       "      <td>deer cushion</td>\n",
       "      <td>284</td>\n",
       "    </tr>\n",
       "    <tr>\n",
       "      <th>5317</th>\n",
       "      <td>5317</td>\n",
       "      <td>las vegas shooting range</td>\n",
       "      <td>284</td>\n",
       "    </tr>\n",
       "    <tr>\n",
       "      <th>8541</th>\n",
       "      <td>8541</td>\n",
       "      <td>baby banz ear defenders</td>\n",
       "      <td>284</td>\n",
       "    </tr>\n",
       "    <tr>\n",
       "      <th>8740</th>\n",
       "      <td>8740</td>\n",
       "      <td>colt 45 peacemaker</td>\n",
       "      <td>284</td>\n",
       "    </tr>\n",
       "    <tr>\n",
       "      <th>9424</th>\n",
       "      <td>9424</td>\n",
       "      <td>deerhunter trousers</td>\n",
       "      <td>284</td>\n",
       "    </tr>\n",
       "    <tr>\n",
       "      <th>10328</th>\n",
       "      <td>10328</td>\n",
       "      <td>uttings scopes</td>\n",
       "      <td>284</td>\n",
       "    </tr>\n",
       "    <tr>\n",
       "      <th>10603</th>\n",
       "      <td>10603</td>\n",
       "      <td>flash gun</td>\n",
       "      <td>284</td>\n",
       "    </tr>\n",
       "  </tbody>\n",
       "</table>\n",
       "</div>"
      ],
      "text/plain": [
       "       idrequest                       request  category\n",
       "606          606             stag head designs       284\n",
       "3867        3867  wall mounted animal heads uk       284\n",
       "4335        4335      shooting range las vegas       284\n",
       "4358        4358                  deer cushion       284\n",
       "5317        5317      las vegas shooting range       284\n",
       "8541        8541       baby banz ear defenders       284\n",
       "8740        8740            colt 45 peacemaker       284\n",
       "9424        9424           deerhunter trousers       284\n",
       "10328      10328                uttings scopes       284\n",
       "10603      10603                     flash gun       284"
      ]
     },
     "execution_count": 191,
     "metadata": {},
     "output_type": "execute_result"
    }
   ],
   "source": [
    "print(\"Predicted Category : \", PredictedCategory)\n",
    "pick_queries_within_category(PredictedCategory,nobs=10)"
   ]
  },
  {
   "cell_type": "code",
   "execution_count": null,
   "metadata": {},
   "outputs": [],
   "source": []
  },
  {
   "cell_type": "code",
   "execution_count": null,
   "metadata": {},
   "outputs": [],
   "source": []
  },
  {
   "cell_type": "code",
   "execution_count": null,
   "metadata": {},
   "outputs": [],
   "source": []
  }
 ],
 "metadata": {
  "kernelspec": {
   "display_name": "Python 3",
   "language": "python",
   "name": "python3"
  },
  "language_info": {
   "codemirror_mode": {
    "name": "ipython",
    "version": 3
   },
   "file_extension": ".py",
   "mimetype": "text/x-python",
   "name": "python",
   "nbconvert_exporter": "python",
   "pygments_lexer": "ipython3",
   "version": "3.7.3"
  }
 },
 "nbformat": 4,
 "nbformat_minor": 2
}
