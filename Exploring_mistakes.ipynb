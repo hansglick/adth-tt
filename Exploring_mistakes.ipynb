{
 "cells": [
  {
   "cell_type": "markdown",
   "metadata": {},
   "source": [
    "## Import functions"
   ]
  },
  {
   "cell_type": "code",
   "execution_count": 1,
   "metadata": {},
   "outputs": [],
   "source": [
    "from myfun import *"
   ]
  },
  {
   "cell_type": "markdown",
   "metadata": {},
   "source": [
    "## Load the 'model'"
   ]
  },
  {
   "cell_type": "code",
   "execution_count": 2,
   "metadata": {},
   "outputs": [],
   "source": [
    "# Model\n",
    "\n",
    "granularite = 0.01\n",
    "\n",
    "dic_of_words = LoadPickle(\"dic_of_words.p\")\n",
    "WordToRequest = LoadPickle(\"WordToRequest.p\")\n",
    "df = LoadPickle(\"df.p\")\n",
    "dic_of_requests = LoadPickle(\"dic_of_requests.p\")\n",
    "\n",
    "DefaultCategory = df.category.value_counts().index[0]\n",
    "OverallDisDic = GetOverallCategoryDistribution(df)\n",
    "Overallp =  DotProductFromDic(OverallDisDic)\n",
    "\n",
    "PowerDicDis = GetPowerDicDis(Overallp,dic_of_words,granularite)"
   ]
  },
  {
   "cell_type": "code",
   "execution_count": 3,
   "metadata": {},
   "outputs": [
    {
     "name": "stdout",
     "output_type": "stream",
     "text": [
      "Words viewed so far :  70172"
     ]
    }
   ],
   "source": [
    "## Most Powerful words by category\n",
    "\n",
    "d = AutoVivification()\n",
    "\n",
    "number_of_words = 0\n",
    "for word,informations in dic_of_words.items():\n",
    "    number_of_words = number_of_words + 1\n",
    "    print(\"\\rWords viewed so far : \",number_of_words,end = \"\")\n",
    "    for category,frequence in informations.items():\n",
    "        d[category][word] = d[category].get(word,0) + frequence\n",
    "        \n",
    "Powerful_Words_by_Category = {}\n",
    "for category,informations in d.items():\n",
    "    templist = [(word,frequence*PowerDicDis[word]) for word,frequence in informations.items()]\n",
    "    total_mass = sum([item[1] for item in templist])\n",
    "    templist = [(item[0],item[1],item[1]/total_mass) for item in templist]\n",
    "    templist.sort(key = lambda a : -a[1])\n",
    "    Powerful_Words_by_Category[category] = templist"
   ]
  },
  {
   "cell_type": "markdown",
   "metadata": {},
   "source": [
    "## Functions used to explore"
   ]
  },
  {
   "cell_type": "code",
   "execution_count": null,
   "metadata": {},
   "outputs": [],
   "source": [
    "def list_to_string(b):\n",
    "    X = []\n",
    "    for row in b:\n",
    "        tp = \"  |  \".join([str(item) for item in row])\n",
    "        X.append(tp)\n",
    "    solution = \"\\n\".join(X)\n",
    "    return solution"
   ]
  },
  {
   "cell_type": "code",
   "execution_count": 4,
   "metadata": {},
   "outputs": [],
   "source": [
    "def Explore_Prediction(hyp,IdRequest):\n",
    "\n",
    "    SelectedRequest, SelectedCategory, SelectedWords = GetInformationsFromIDRequest(IdRequest,df)\n",
    "    UpdateDic(IdRequest,SelectedRequest, SelectedCategory, SelectedWords,dic_of_words,WordToRequest,True)\n",
    "    sauvegardePowerDicDis = SavePowerDicDis(SelectedWords,PowerDicDis)\n",
    "    UpdatePowerDicDis(SelectedWords,dic_of_words,sauvegardePowerDicDis,granularite,Overallp,PowerDicDis,True)\n",
    "\n",
    "    RequestDic = GetRequestWeight(SelectedRequest,PowerDicDis)\n",
    "    RequestDic_tuples = [(k,v) for k,v in RequestDic.items()]\n",
    "    RequestDic_tuples.sort(key=lambda tup: -tup[1])\n",
    "    ranked_words = [item[0] for item in RequestDic_tuples if item[1]>0.0001]\n",
    "    ranked_words = Clean_Ranked_Words(ranked_words,WordToRequest)\n",
    "\n",
    "    PREDICTIONS = ALL_PREDICTIONS_FROM_PARTITIONS(ranked_words,\n",
    "                                                  RequestDic_tuples,dic_of_requests,WordToRequest,\n",
    "                                                  hyp,[hyp],DefaultCategory,with_details=True)\n",
    "\n",
    "    UpdateDic(IdRequest,SelectedRequest, SelectedCategory, SelectedWords,dic_of_words,WordToRequest,False)\n",
    "    UpdatePowerDicDis(SelectedWords,dic_of_words,sauvegardePowerDicDis,granularite,Overallp,PowerDicDis,False)\n",
    "\n",
    "    dftoprint = PREDICTIONS[0][2].head(25)\n",
    "    dftoprint = dftoprint.drop([\"score\"], axis=1)\n",
    "    atp = \"ID : \" + str(IdRequest) \n",
    "    btp = \"Query : \" + str(SelectedRequest)\n",
    "    ctp = \"Prediction : \" + str(SelectedCategory==PREDICTIONS[0][1]).upper()\n",
    "    dtp = \"True Category : \" + str(SelectedCategory) + \" | Predicted Category : \" + str(PREDICTIONS[0][1])    \n",
    "    toprint = atp + \"\\n\" + btp + \"\\n\" + ctp + \"\\n\" + dtp + \"\\n\\nBest Queries Candidates\"\n",
    "    \n",
    "    return toprint,dftoprint,SelectedCategory,PREDICTIONS[0][1]"
   ]
  },
  {
   "cell_type": "code",
   "execution_count": 5,
   "metadata": {},
   "outputs": [],
   "source": [
    "def pick_queries_within_category(idcat,nobs=10):\n",
    "    return df[df.category == idcat].head(nobs) "
   ]
  },
  {
   "cell_type": "code",
   "execution_count": null,
   "metadata": {},
   "outputs": [],
   "source": []
  },
  {
   "cell_type": "code",
   "execution_count": null,
   "metadata": {},
   "outputs": [],
   "source": []
  },
  {
   "cell_type": "code",
   "execution_count": null,
   "metadata": {},
   "outputs": [],
   "source": []
  },
  {
   "cell_type": "markdown",
   "metadata": {},
   "source": [
    "## Explore the results"
   ]
  },
  {
   "cell_type": "markdown",
   "metadata": {},
   "source": [
    "#### **Pick a random query and make a prediction**"
   ]
  },
  {
   "cell_type": "code",
   "execution_count": 6,
   "metadata": {},
   "outputs": [
    {
     "name": "stdout",
     "output_type": "stream",
     "text": [
      "ID : 565519\n",
      "Query : mtp camo\n",
      "Prediction : TRUE\n",
      "True Category : 863 | Predicted Category : 863\n",
      "\n",
      "Best Queries Candidates\n",
      "    idrequest                  request  category  score_relatif\n",
      "0      147267            mtp sas smock       863        0.85186\n",
      "1       33091              mtp uniform       863        0.85186\n",
      "2      519813           mtp para smock       863        0.85186\n",
      "3      452815            mtp chest rig       863        0.85186\n",
      "4      484499              mtp daysack       863        0.85186\n",
      "5      537620             mtp day sack      1072        0.85186\n",
      "6      295575  mtp bergen side pouches      1080        0.85186\n",
      "7      504218                mtp basha       863        0.85186\n",
      "8      367066                  mtp kit      1412        0.85186\n",
      "9      311966               mtp bergen      1080        0.85186\n",
      "10     104161              mtp webbing      1351        0.85186\n",
      "11     565412                 mtp army       127        0.85186\n",
      "12     138852             mtp trousers       863        0.85186\n",
      "13     602794        mtp barrack shirt       129        0.85186\n",
      "14     181677           mtp waterproof       863        0.85186\n",
      "15     488175               mtp jacket       863        0.85186\n",
      "16     298163              mtp pouches       863        0.85186\n",
      "17     162677                mtp ubacs       863        0.85186\n",
      "18     348472         mtp bergen cover      1080        0.85186\n",
      "19     277563               bergen mtp      1080        0.85186\n",
      "20     385084                mtp smock       863        0.85186\n"
     ]
    }
   ],
   "source": [
    "idq = np.random.choice(np.arange(len(df)))\n",
    "#idq = 57906\n",
    "toprint,dftoprint,SelectedCategory,PredictedCategory = Explore_Prediction(0.85,idq)\n",
    "print(toprint)\n",
    "print(dftoprint)"
   ]
  },
  {
   "cell_type": "code",
   "execution_count": null,
   "metadata": {},
   "outputs": [],
   "source": []
  },
  {
   "cell_type": "markdown",
   "metadata": {},
   "source": [
    "#### **List the TOP 15 powerful words of the category the random request belongs to**"
   ]
  },
  {
   "cell_type": "code",
   "execution_count": 7,
   "metadata": {},
   "outputs": [
    {
     "name": "stdout",
     "output_type": "stream",
     "text": [
      "True Category :  863\n"
     ]
    },
    {
     "data": {
      "text/plain": [
       "[('army', 13026.752992770767, 0.06495460693975043),\n",
       " ('regiment', 9500.71562996453, 0.047372914012659896),\n",
       " ('mtp', 6249.50487994793, 0.031161574436111922),\n",
       " ('tactical', 4991.637456146344, 0.024889536873053),\n",
       " ('military', 4561.173193996981, 0.02274313577332858),\n",
       " ('legion', 4134.691959965385, 0.020616595035273952),\n",
       " ('tattoo', 3638.9986532719213, 0.018144945813337587),\n",
       " ('records', 3628.3896462075195, 0.01809204668457759),\n",
       " ('navy', 3407.3464328086234, 0.016989870643395834),\n",
       " ('beret', 3251.246814006437, 0.016211519400506084),\n",
       " ('artillery', 2905.7180332523785, 0.014488627582974405),\n",
       " ('ww2', 2879.4854056460804, 0.014357825224465761),\n",
       " ('molle', 2427.6457252713553, 0.012104841011530268),\n",
       " ('submarine', 2305.5167476569, 0.011495875773507955),\n",
       " ('hms', 2298.8909286149437, 0.011462837803741965)]"
      ]
     },
     "execution_count": 7,
     "metadata": {},
     "output_type": "execute_result"
    }
   ],
   "source": [
    "print(\"True Category : \", SelectedCategory)\n",
    "Powerful_Words_by_Category[SelectedCategory][:15]"
   ]
  },
  {
   "cell_type": "markdown",
   "metadata": {},
   "source": [
    "#### **Pick some random queries from the category the random request belongs to**"
   ]
  },
  {
   "cell_type": "code",
   "execution_count": 8,
   "metadata": {},
   "outputs": [
    {
     "name": "stdout",
     "output_type": "stream",
     "text": [
      "True Category :  863\n"
     ]
    },
    {
     "data": {
      "text/html": [
       "<div>\n",
       "<style scoped>\n",
       "    .dataframe tbody tr th:only-of-type {\n",
       "        vertical-align: middle;\n",
       "    }\n",
       "\n",
       "    .dataframe tbody tr th {\n",
       "        vertical-align: top;\n",
       "    }\n",
       "\n",
       "    .dataframe thead th {\n",
       "        text-align: right;\n",
       "    }\n",
       "</style>\n",
       "<table border=\"1\" class=\"dataframe\">\n",
       "  <thead>\n",
       "    <tr style=\"text-align: right;\">\n",
       "      <th></th>\n",
       "      <th>idrequest</th>\n",
       "      <th>request</th>\n",
       "      <th>category</th>\n",
       "    </tr>\n",
       "  </thead>\n",
       "  <tbody>\n",
       "    <tr>\n",
       "      <th>1600</th>\n",
       "      <td>1600</td>\n",
       "      <td>military gloves</td>\n",
       "      <td>863</td>\n",
       "    </tr>\n",
       "    <tr>\n",
       "      <th>2285</th>\n",
       "      <td>2285</td>\n",
       "      <td>army wallpaper</td>\n",
       "      <td>863</td>\n",
       "    </tr>\n",
       "    <tr>\n",
       "      <th>2929</th>\n",
       "      <td>2929</td>\n",
       "      <td>military belt</td>\n",
       "      <td>863</td>\n",
       "    </tr>\n",
       "    <tr>\n",
       "      <th>3429</th>\n",
       "      <td>3429</td>\n",
       "      <td>military records ww2</td>\n",
       "      <td>863</td>\n",
       "    </tr>\n",
       "    <tr>\n",
       "      <th>3775</th>\n",
       "      <td>3775</td>\n",
       "      <td>captain fawcett</td>\n",
       "      <td>863</td>\n",
       "    </tr>\n",
       "    <tr>\n",
       "      <th>4339</th>\n",
       "      <td>4339</td>\n",
       "      <td>gas mask bong</td>\n",
       "      <td>863</td>\n",
       "    </tr>\n",
       "    <tr>\n",
       "      <th>4412</th>\n",
       "      <td>4412</td>\n",
       "      <td>military surplus</td>\n",
       "      <td>863</td>\n",
       "    </tr>\n",
       "    <tr>\n",
       "      <th>6684</th>\n",
       "      <td>6684</td>\n",
       "      <td>ex forces recruitment</td>\n",
       "      <td>863</td>\n",
       "    </tr>\n",
       "    <tr>\n",
       "      <th>6994</th>\n",
       "      <td>6994</td>\n",
       "      <td>black water</td>\n",
       "      <td>863</td>\n",
       "    </tr>\n",
       "    <tr>\n",
       "      <th>7683</th>\n",
       "      <td>7683</td>\n",
       "      <td>military green</td>\n",
       "      <td>863</td>\n",
       "    </tr>\n",
       "  </tbody>\n",
       "</table>\n",
       "</div>"
      ],
      "text/plain": [
       "      idrequest                request  category\n",
       "1600       1600        military gloves       863\n",
       "2285       2285         army wallpaper       863\n",
       "2929       2929          military belt       863\n",
       "3429       3429   military records ww2       863\n",
       "3775       3775        captain fawcett       863\n",
       "4339       4339          gas mask bong       863\n",
       "4412       4412       military surplus       863\n",
       "6684       6684  ex forces recruitment       863\n",
       "6994       6994            black water       863\n",
       "7683       7683         military green       863"
      ]
     },
     "execution_count": 8,
     "metadata": {},
     "output_type": "execute_result"
    }
   ],
   "source": [
    "print(\"True Category : \", SelectedCategory)\n",
    "pick_queries_within_category(SelectedCategory,nobs=10)"
   ]
  },
  {
   "cell_type": "code",
   "execution_count": null,
   "metadata": {},
   "outputs": [],
   "source": []
  },
  {
   "cell_type": "code",
   "execution_count": null,
   "metadata": {},
   "outputs": [],
   "source": []
  },
  {
   "cell_type": "code",
   "execution_count": null,
   "metadata": {},
   "outputs": [],
   "source": []
  },
  {
   "cell_type": "markdown",
   "metadata": {},
   "source": [
    "#### **List the TOP 15 powerful words of the predicted category**"
   ]
  },
  {
   "cell_type": "code",
   "execution_count": 9,
   "metadata": {},
   "outputs": [
    {
     "name": "stdout",
     "output_type": "stream",
     "text": [
      "Predicted Category :  863\n"
     ]
    },
    {
     "data": {
      "text/plain": [
       "[('army', 13026.752992770767, 0.06495460693975043),\n",
       " ('regiment', 9500.71562996453, 0.047372914012659896),\n",
       " ('mtp', 6249.50487994793, 0.031161574436111922),\n",
       " ('tactical', 4991.637456146344, 0.024889536873053),\n",
       " ('military', 4561.173193996981, 0.02274313577332858),\n",
       " ('legion', 4134.691959965385, 0.020616595035273952),\n",
       " ('tattoo', 3638.9986532719213, 0.018144945813337587),\n",
       " ('records', 3628.3896462075195, 0.01809204668457759),\n",
       " ('navy', 3407.3464328086234, 0.016989870643395834),\n",
       " ('beret', 3251.246814006437, 0.016211519400506084)]"
      ]
     },
     "execution_count": 9,
     "metadata": {},
     "output_type": "execute_result"
    }
   ],
   "source": [
    "print(\"Predicted Category : \", PredictedCategory)\n",
    "Powerful_Words_by_Category[PredictedCategory][:10]"
   ]
  },
  {
   "cell_type": "code",
   "execution_count": null,
   "metadata": {},
   "outputs": [],
   "source": []
  },
  {
   "cell_type": "markdown",
   "metadata": {},
   "source": [
    "#### **Pick some random queries from the category the random request belongs to**"
   ]
  },
  {
   "cell_type": "code",
   "execution_count": 10,
   "metadata": {},
   "outputs": [
    {
     "name": "stdout",
     "output_type": "stream",
     "text": [
      "Predicted Category :  863\n"
     ]
    },
    {
     "data": {
      "text/html": [
       "<div>\n",
       "<style scoped>\n",
       "    .dataframe tbody tr th:only-of-type {\n",
       "        vertical-align: middle;\n",
       "    }\n",
       "\n",
       "    .dataframe tbody tr th {\n",
       "        vertical-align: top;\n",
       "    }\n",
       "\n",
       "    .dataframe thead th {\n",
       "        text-align: right;\n",
       "    }\n",
       "</style>\n",
       "<table border=\"1\" class=\"dataframe\">\n",
       "  <thead>\n",
       "    <tr style=\"text-align: right;\">\n",
       "      <th></th>\n",
       "      <th>idrequest</th>\n",
       "      <th>request</th>\n",
       "      <th>category</th>\n",
       "    </tr>\n",
       "  </thead>\n",
       "  <tbody>\n",
       "    <tr>\n",
       "      <th>1600</th>\n",
       "      <td>1600</td>\n",
       "      <td>military gloves</td>\n",
       "      <td>863</td>\n",
       "    </tr>\n",
       "    <tr>\n",
       "      <th>2285</th>\n",
       "      <td>2285</td>\n",
       "      <td>army wallpaper</td>\n",
       "      <td>863</td>\n",
       "    </tr>\n",
       "    <tr>\n",
       "      <th>2929</th>\n",
       "      <td>2929</td>\n",
       "      <td>military belt</td>\n",
       "      <td>863</td>\n",
       "    </tr>\n",
       "    <tr>\n",
       "      <th>3429</th>\n",
       "      <td>3429</td>\n",
       "      <td>military records ww2</td>\n",
       "      <td>863</td>\n",
       "    </tr>\n",
       "    <tr>\n",
       "      <th>3775</th>\n",
       "      <td>3775</td>\n",
       "      <td>captain fawcett</td>\n",
       "      <td>863</td>\n",
       "    </tr>\n",
       "    <tr>\n",
       "      <th>4339</th>\n",
       "      <td>4339</td>\n",
       "      <td>gas mask bong</td>\n",
       "      <td>863</td>\n",
       "    </tr>\n",
       "    <tr>\n",
       "      <th>4412</th>\n",
       "      <td>4412</td>\n",
       "      <td>military surplus</td>\n",
       "      <td>863</td>\n",
       "    </tr>\n",
       "    <tr>\n",
       "      <th>6684</th>\n",
       "      <td>6684</td>\n",
       "      <td>ex forces recruitment</td>\n",
       "      <td>863</td>\n",
       "    </tr>\n",
       "    <tr>\n",
       "      <th>6994</th>\n",
       "      <td>6994</td>\n",
       "      <td>black water</td>\n",
       "      <td>863</td>\n",
       "    </tr>\n",
       "    <tr>\n",
       "      <th>7683</th>\n",
       "      <td>7683</td>\n",
       "      <td>military green</td>\n",
       "      <td>863</td>\n",
       "    </tr>\n",
       "  </tbody>\n",
       "</table>\n",
       "</div>"
      ],
      "text/plain": [
       "      idrequest                request  category\n",
       "1600       1600        military gloves       863\n",
       "2285       2285         army wallpaper       863\n",
       "2929       2929          military belt       863\n",
       "3429       3429   military records ww2       863\n",
       "3775       3775        captain fawcett       863\n",
       "4339       4339          gas mask bong       863\n",
       "4412       4412       military surplus       863\n",
       "6684       6684  ex forces recruitment       863\n",
       "6994       6994            black water       863\n",
       "7683       7683         military green       863"
      ]
     },
     "execution_count": 10,
     "metadata": {},
     "output_type": "execute_result"
    }
   ],
   "source": [
    "print(\"Predicted Category : \", PredictedCategory)\n",
    "pick_queries_within_category(PredictedCategory,nobs=10)"
   ]
  },
  {
   "cell_type": "code",
   "execution_count": null,
   "metadata": {},
   "outputs": [],
   "source": []
  },
  {
   "cell_type": "code",
   "execution_count": null,
   "metadata": {},
   "outputs": [],
   "source": []
  },
  {
   "cell_type": "code",
   "execution_count": null,
   "metadata": {},
   "outputs": [],
   "source": []
  },
  {
   "cell_type": "markdown",
   "metadata": {},
   "source": [
    "### Write some examples of mistakes"
   ]
  },
  {
   "cell_type": "code",
   "execution_count": 78,
   "metadata": {},
   "outputs": [],
   "source": [
    "ncase = 0\n",
    "L = []\n",
    "while ncase<50:\n",
    "    idq = np.random.choice(np.arange(len(df)))\n",
    "    toprint,dftoprint,SelectedCategory,PredictedCategory = Explore_Prediction(0.85,idq)\n",
    "    if SelectedCategory != PredictedCategory:\n",
    "        ncase = ncase + 1\n",
    "        \n",
    "        p2 = \"Query : \" + dic_of_requests[idq][\"request\"]\n",
    "        x = \"\\n\"\n",
    "        p1 = \"Best Candidates of the query\"\n",
    "        p0 = dftoprint.to_string()\n",
    "        \n",
    "        a = \"Predicted Category : \" + str(PredictedCategory)\n",
    "        b =Powerful_Words_by_Category[PredictedCategory][:15]\n",
    "        b = list_to_string(b)\n",
    "        c=pick_queries_within_category(PredictedCategory,nobs=10).to_string()\n",
    "        \n",
    "        d = \"True Category : \" + str(SelectedCategory)\n",
    "        e =Powerful_Words_by_Category[SelectedCategory][:15]\n",
    "        e = list_to_string(e)\n",
    "        f = pick_queries_within_category(SelectedCategory,nobs=10).to_string()\n",
    "        sepa= \"* * * * * * * * * * * * * \"\n",
    "        L.append((p2,x,x,p1,x,p0,x,x,x,x,a,x,x,\"POWER WORDS OF THE CATEGORY\",x,x,b,x,x,\"RANDOM QUERIES OF THE CATEGORY\",x,x,c,x,x,x,x,d,x,x,\"POWER WORDS OF THE CATEGORY\",x,x,e,x,x,\"RANDOM QUERIES OF THE CATEGORY\",x,x,f,x,x,x,x,x,x,sepa,x))\n",
    "        \n",
    "with open(\"Example_of_mistakes_for_Diagnostics\", \"w\") as fhandle:\n",
    "    for item in L:\n",
    "        for element in item:\n",
    "            fhandle.write(element)"
   ]
  },
  {
   "cell_type": "code",
   "execution_count": 79,
   "metadata": {},
   "outputs": [],
   "source": []
  },
  {
   "cell_type": "code",
   "execution_count": 80,
   "metadata": {},
   "outputs": [],
   "source": []
  },
  {
   "cell_type": "code",
   "execution_count": null,
   "metadata": {},
   "outputs": [],
   "source": []
  }
 ],
 "metadata": {
  "kernelspec": {
   "display_name": "Python 3",
   "language": "python",
   "name": "python3"
  },
  "language_info": {
   "codemirror_mode": {
    "name": "ipython",
    "version": 3
   },
   "file_extension": ".py",
   "mimetype": "text/x-python",
   "name": "python",
   "nbconvert_exporter": "python",
   "pygments_lexer": "ipython3",
   "version": "3.7.3"
  }
 },
 "nbformat": 4,
 "nbformat_minor": 2
}
