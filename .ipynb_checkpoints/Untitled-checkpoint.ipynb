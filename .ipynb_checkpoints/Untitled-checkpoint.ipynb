{
 "cells": [
  {
   "cell_type": "code",
   "execution_count": 1,
   "metadata": {},
   "outputs": [],
   "source": [
    "import argparse\n",
    "from myfun import *\n",
    "import re"
   ]
  },
  {
   "cell_type": "code",
   "execution_count": 13,
   "metadata": {},
   "outputs": [],
   "source": [
    "import string"
   ]
  },
  {
   "cell_type": "code",
   "execution_count": 14,
   "metadata": {},
   "outputs": [],
   "source": [
    "translator = str.maketrans('', '', string.punctuation)"
   ]
  },
  {
   "cell_type": "code",
   "execution_count": 15,
   "metadata": {},
   "outputs": [],
   "source": [
    "s = 'string with \"punctuation\" inside of it! Does this work? I hope so.'"
   ]
  },
  {
   "cell_type": "code",
   "execution_count": 16,
   "metadata": {},
   "outputs": [
    {
     "data": {
      "text/plain": [
       "'string with punctuation inside of it Does this work I hope so'"
      ]
     },
     "execution_count": 16,
     "metadata": {},
     "output_type": "execute_result"
    }
   ],
   "source": [
    "s.translate(translator)"
   ]
  },
  {
   "cell_type": "code",
   "execution_count": 17,
   "metadata": {},
   "outputs": [
    {
     "data": {
      "text/plain": [
       "'string with \"punctuation\" inside of it! Does this work? I hope so.'"
      ]
     },
     "execution_count": 17,
     "metadata": {},
     "output_type": "execute_result"
    }
   ],
   "source": [
    "s"
   ]
  },
  {
   "cell_type": "code",
   "execution_count": 2,
   "metadata": {},
   "outputs": [
    {
     "name": "stdout",
     "output_type": "stream",
     "text": [
      "Loading 'words to categories' dictionnary ...\n",
      "Loading 'words to request's' dictionnary ...\n",
      "Loading 'requests to words' dictionnary ...\n",
      "Loading training set dataframe ...\n",
      "Evaluating average prediction ...\n",
      "Building 'words'discriminant' power dictionnary ...\n"
     ]
    }
   ],
   "source": [
    "\n",
    "\n",
    "# command line example : python predict -i testexample.txt -o results.txt -hyper 0.85\n",
    "\n",
    "\n",
    "print(\"Loading 'words to categories' dictionnary ...\")\n",
    "dic_of_words = LoadPickle(\"dic_of_words.p\")\n",
    "\n",
    "print(\"Loading 'words to request's' dictionnary ...\")\n",
    "WordToRequest = LoadPickle(\"WordToRequest.p\")\n",
    "\n",
    "print(\"Loading 'requests to words' dictionnary ...\")\n",
    "dic_of_requests = LoadPickle(\"dic_of_requests.p\")\n",
    "\n",
    "print(\"Loading training set dataframe ...\")\n",
    "df = LoadPickle(\"df.p\")\n",
    "\n",
    "print(\"Evaluating average prediction ...\")\n",
    "DefaultCategory = df.category.value_counts().index[0]\n",
    "OverallDisDic = GetOverallCategoryDistribution(df)\n",
    "Overallp =  DotProductFromDic(OverallDisDic)\n",
    "\n",
    "print(\"Building 'words'discriminant' power dictionnary ...\")\n",
    "PowerDicDis = GetPowerDicDis(Overallp,dic_of_words,0.01)\n",
    "\n"
   ]
  },
  {
   "cell_type": "code",
   "execution_count": 7,
   "metadata": {},
   "outputs": [],
   "source": [
    "def Run_Predictions_For_File(input_file,output_file,hyperparameter):\n",
    "    \n",
    "    with open(input_file) as file:\n",
    "        with open(output_file, \"w\") as fhandle:\n",
    "            for idrow,l in enumerate(file):\n",
    "                print(\"\\rPredicted requests : \",idrow+1,end=\"\")\n",
    "                request = l.rstrip(\"\\n\").lower().translate(translator)\n",
    "                request = re.sub(' +', ' ', request)\n",
    "                predicted_category =  Predict_One_String_Request(request,\n",
    "                                                                 dic_of_words,WordToRequest,PowerDicDis,dic_of_requests,\n",
    "                                                                 Overallp,DefaultCategory,\n",
    "                                                                 hyperparameter,[hyperparameter])\n",
    "                toprint = request + \",\" + str(predicted_category) + \"\\n\"\n",
    "                fhandle.write(toprint)\n",
    "    print(\"\")\n",
    "    print(\"Predictions are saved at \",output_file)\n",
    "\n",
    "    return None"
   ]
  },
  {
   "cell_type": "code",
   "execution_count": 6,
   "metadata": {},
   "outputs": [
    {
     "name": "stdout",
     "output_type": "stream",
     "text": [
      "Predicted requests :  67424\n",
      "Predictions are saved at  performance_without_re\n",
      "CPU times: user 3min 23s, sys: 1min 1s, total: 4min 24s\n",
      "Wall time: 4min 5s\n"
     ]
    }
   ],
   "source": [
    "%%time\n",
    "Run_Predictions_For_File(\"testset.txt\",\"performance_without_re\",0.95)"
   ]
  },
  {
   "cell_type": "code",
   "execution_count": 8,
   "metadata": {},
   "outputs": [
    {
     "name": "stdout",
     "output_type": "stream",
     "text": [
      "Predicted requests :  67424\n",
      "Predictions are saved at  performance_without_re\n",
      "CPU times: user 3min 7s, sys: 55.7 s, total: 4min 3s\n",
      "Wall time: 3min 34s\n"
     ]
    }
   ],
   "source": [
    "%%time\n",
    "Run_Predictions_For_File(\"testset.txt\",\"performance_without_re\",0.95)"
   ]
  },
  {
   "cell_type": "code",
   "execution_count": null,
   "metadata": {},
   "outputs": [],
   "source": []
  },
  {
   "cell_type": "code",
   "execution_count": null,
   "metadata": {},
   "outputs": [],
   "source": [
    "if __name__ == \"__main__\":\n",
    "\tparser = argparse.ArgumentParser(description='test arguments')\n",
    "\tparser.add_argument(\"-i\", \"--input_file\", help=\"input filename\", required=True)\n",
    "\tparser.add_argument(\"-o\", \"--output_file\", help=\"output filename\", required=True)\n",
    "\tparser.add_argument(\"-hyper\", \"--hyperparameter\", help=\"hyperparameter 0.85 is suggested\",type=float,default=0.85)\n",
    "\targs = parser.parse_args()\n",
    "\tRun_Predictions_For_File(args)"
   ]
  }
 ],
 "metadata": {
  "kernelspec": {
   "display_name": "Python 3",
   "language": "python",
   "name": "python3"
  },
  "language_info": {
   "codemirror_mode": {
    "name": "ipython",
    "version": 3
   },
   "file_extension": ".py",
   "mimetype": "text/x-python",
   "name": "python",
   "nbconvert_exporter": "python",
   "pygments_lexer": "ipython3",
   "version": "3.7.3"
  }
 },
 "nbformat": 4,
 "nbformat_minor": 2
}
